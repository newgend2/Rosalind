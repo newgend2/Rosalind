{
 "cells": [
  {
   "cell_type": "markdown",
   "id": "890a5a13-7f88-4f46-ba4b-db3a95de7a30",
   "metadata": {
    "tags": []
   },
   "source": [
    "# Mortal fibonacci rabbit problem from rosalind\n",
    "\n",
    "\n",
    "\n"
   ]
  },
  {
   "cell_type": "markdown",
   "id": "82cec23d-292f-4a8a-ae4f-71ce994f9430",
   "metadata": {},
   "source": []
  },
  {
   "cell_type": "code",
   "execution_count": null,
   "id": "2bc1fd26-ffeb-4d19-a26e-f37b22f9d5e1",
   "metadata": {},
   "outputs": [],
   "source": []
  },
  {
   "cell_type": "code",
   "execution_count": null,
   "id": "225093ac-692c-493f-93da-c52af2e8166d",
   "metadata": {},
   "outputs": [],
   "source": []
  },
  {
   "cell_type": "code",
   "execution_count": null,
   "id": "84f90bf1-a636-499f-912a-0826e70713f8",
   "metadata": {},
   "outputs": [],
   "source": []
  }
 ],
 "metadata": {
  "kernelspec": {
   "display_name": "Python 3 (ipykernel)",
   "language": "python",
   "name": "python3"
  },
  "language_info": {
   "codemirror_mode": {
    "name": "ipython",
    "version": 3
   },
   "file_extension": ".py",
   "mimetype": "text/x-python",
   "name": "python",
   "nbconvert_exporter": "python",
   "pygments_lexer": "ipython3",
   "version": "3.9.7"
  }
 },
 "nbformat": 4,
 "nbformat_minor": 5
}
