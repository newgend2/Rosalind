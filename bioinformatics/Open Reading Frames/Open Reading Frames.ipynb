{
 "cells": [
  {
   "cell_type": "code",
   "execution_count": 11,
   "metadata": {},
   "outputs": [
    {
     "name": "stdout",
     "output_type": "stream",
     "text": [
      "AGCCATGTAGCTAACTCAGGTTACATGGGGATGACCCCGCGACTTGGATTAGAGTCTCTTTTGGAATAAGCCTGAATGATCCGAGTAGCATCTCAG\n"
     ]
    }
   ],
   "source": [
    "# reading in fasta sequence\n",
    "with open('input.txt', 'r') as raw_fasta:\n",
    "    seq = raw_fasta.read().splitlines()[1]\n",
    "\n",
    "print(seq)"
   ]
  },
  {
   "cell_type": "code",
   "execution_count": 12,
   "metadata": {},
   "outputs": [
    {
     "name": "stdout",
     "output_type": "stream",
     "text": [
      "CTGAGATGCTACTCGGATCATTCAGGCTTATTCCAAAAGAGACTCTAATCCAAGTCGCGGGGTCATCCCCATGTAACCTGAGTTAGCTACATGGCT\n"
     ]
    }
   ],
   "source": [
    "# get reverse complement for later\n",
    "complement_dict = {'A':'T', 'T':'A', 'C':'G', 'G':'C'}\n",
    "reverse_complement = ''.join([complement_dict[nuc] for nuc in seq][::-1])\n",
    "print(reverse_complement)\n"
   ]
  },
  {
   "cell_type": "code",
   "execution_count": 20,
   "metadata": {},
   "outputs": [
    {
     "name": "stdout",
     "output_type": "stream",
     "text": [
      "['AGCCATGTAGCTAACTCAGGTTACATGGGGATGACCCCGCGACTTGGATTAGAGTCTCTTTTGGAATAAGCCTGAATGATCCGAGTAGCATCTCAG', 'GCCATGTAGCTAACTCAGGTTACATGGGGATGACCCCGCGACTTGGATTAGAGTCTCTTTTGGAATAAGCCTGAATGATCCGAGTAGCATCTCAG', 'CCATGTAGCTAACTCAGGTTACATGGGGATGACCCCGCGACTTGGATTAGAGTCTCTTTTGGAATAAGCCTGAATGATCCGAGTAGCATCTCAG', 'CTGAGATGCTACTCGGATCATTCAGGCTTATTCCAAAAGAGACTCTAATCCAAGTCGCGGGGTCATCCCCATGTAACCTGAGTTAGCTACATGGCT', 'TGAGATGCTACTCGGATCATTCAGGCTTATTCCAAAAGAGACTCTAATCCAAGTCGCGGGGTCATCCCCATGTAACCTGAGTTAGCTACATGGCT', 'GAGATGCTACTCGGATCATTCAGGCTTATTCCAAAAGAGACTCTAATCCAAGTCGCGGGGTCATCCCCATGTAACCTGAGTTAGCTACATGGCT']\n"
     ]
    }
   ],
   "source": [
    "# generate all 6 reading frames(3 from original string, 3 from reverse complement)\n",
    "\n",
    "rf_original = [seq[i:] for i in range(3)]\n",
    "rf_reverse_complement = [reverse_complement[i:] for i in range(3)]\n",
    "rf = rf_original + rf_reverse_complement\n",
    "print(rf)"
   ]
  },
  {
   "cell_type": "code",
   "execution_count": 56,
   "metadata": {},
   "outputs": [
    {
     "name": "stdout",
     "output_type": "stream",
     "text": [
      "{1: ['AGC', 'CAT', 'GTA', 'GCT', 'AAC', 'TCA', 'GGT', 'TAC', 'ATG', 'GGG', 'ATG', 'ACC', 'CCG', 'CGA', 'CTT', 'GGA', 'TTA', 'GAG', 'TCT', 'CTT', 'TTG', 'GAA', 'TAA', 'GCC', 'TGA', 'ATG', 'ATC', 'CGA', 'GTA', 'GCA', 'TCT', 'CAG'], 2: ['GCC', 'ATG', 'TAG', 'CTA', 'ACT', 'CAG', 'GTT', 'ACA', 'TGG', 'GGA', 'TGA', 'CCC', 'CGC', 'GAC', 'TTG', 'GAT', 'TAG', 'AGT', 'CTC', 'TTT', 'TGG', 'AAT', 'AAG', 'CCT', 'GAA', 'TGA', 'TCC', 'GAG', 'TAG', 'CAT', 'CTC'], 3: ['CCA', 'TGT', 'AGC', 'TAA', 'CTC', 'AGG', 'TTA', 'CAT', 'GGG', 'GAT', 'GAC', 'CCC', 'GCG', 'ACT', 'TGG', 'ATT', 'AGA', 'GTC', 'TCT', 'TTT', 'GGA', 'ATA', 'AGC', 'CTG', 'AAT', 'GAT', 'CCG', 'AGT', 'AGC', 'ATC', 'TCA'], 4: ['CTG', 'AGA', 'TGC', 'TAC', 'TCG', 'GAT', 'CAT', 'TCA', 'GGC', 'TTA', 'TTC', 'CAA', 'AAG', 'AGA', 'CTC', 'TAA', 'TCC', 'AAG', 'TCG', 'CGG', 'GGT', 'CAT', 'CCC', 'CAT', 'GTA', 'ACC', 'TGA', 'GTT', 'AGC', 'TAC', 'ATG', 'GCT'], 5: ['TGA', 'GAT', 'GCT', 'ACT', 'CGG', 'ATC', 'ATT', 'CAG', 'GCT', 'TAT', 'TCC', 'AAA', 'AGA', 'GAC', 'TCT', 'AAT', 'CCA', 'AGT', 'CGC', 'GGG', 'GTC', 'ATC', 'CCC', 'ATG', 'TAA', 'CCT', 'GAG', 'TTA', 'GCT', 'ACA', 'TGG'], 6: ['GAG', 'ATG', 'CTA', 'CTC', 'GGA', 'TCA', 'TTC', 'AGG', 'CTT', 'ATT', 'CCA', 'AAA', 'GAG', 'ACT', 'CTA', 'ATC', 'CAA', 'GTC', 'GCG', 'GGG', 'TCA', 'TCC', 'CCA', 'TGT', 'AAC', 'CTG', 'AGT', 'TAG', 'CTA', 'CAT', 'GGC']}\n"
     ]
    }
   ],
   "source": [
    "# find ORF of one reading frame.\n",
    "import re\n",
    "rf_codons = {}\n",
    "for ind, rf_indiv in enumerate(rf):\n",
    "    rf_codons[ind + 1] = [rf_indiv[i:i + 3] for i in range(0,(len(rf_indiv) // 3) * 3, 3)]\n",
    "print(rf_codons)"
   ]
  },
  {
   "cell_type": "code",
   "execution_count": 57,
   "metadata": {},
   "outputs": [],
   "source": [
    "# testing making a json\n",
    "import json\n",
    "\n",
    "with open('json_test', 'w') as write_file:\n",
    "    json.dump(rf_codons, write_file)"
   ]
  },
  {
   "cell_type": "code",
   "execution_count": 73,
   "metadata": {},
   "outputs": [
    {
     "name": "stdout",
     "output_type": "stream",
     "text": [
      "{1: [[8, 10, 25], [22, 24]], 2: [[1], [2, 10, 16, 25, 28]], 3: [[], [3]], 4: [[30], [15, 26]], 5: [[23], [0, 24]], 6: [[1], [27]]}\n"
     ]
    }
   ],
   "source": [
    "# find all indices of 'ATG' start codon\n",
    "start_stop_dict = {}\n",
    "for ind, codons in rf_codons.items():\n",
    "    start_stop_dict[ind] = [[index for index, codon in enumerate(codons) if codon == 'ATG'], [index for index, codon in enumerate(codons) if codon in ('TGA', 'TAA', 'TAG')]]\n",
    "\n",
    "print(start_stop_dict)"
   ]
  },
  {
   "cell_type": "markdown",
   "metadata": {},
   "source": [
    "2 conditions\n",
    "1. start or stop codons codons empty -> no operations needed\n",
    "2. at least 1 element in stop and start codon indices.\n",
    "\n"
   ]
  },
  {
   "cell_type": "markdown",
   "metadata": {},
   "source": [
    "# Open reading frame algorithm\n",
    "start with first start codon, check if first start codon is larger than it.\n",
    "if not ... move on to next stop codon because there is no open reading frame to be had.\n",
    "ONce all the stop codons hae been tried for a single start codon move repeat the above steps for the next start codons sequentially.\n",
    "\n"
   ]
  },
  {
   "cell_type": "code",
   "execution_count": 80,
   "metadata": {},
   "outputs": [
    {
     "name": "stdout",
     "output_type": "stream",
     "text": [
      "[[8, 10, 25], [22, 24]]\n"
     ]
    }
   ],
   "source": [
    "test = start_stop_dict[1]\n",
    "print(test)\n",
    "if [] not in test:\n",
    "    "
   ]
  },
  {
   "cell_type": "markdown",
   "metadata": {},
   "source": [
    "Translate all reading frames into amino acids with a special character for the stop codons\n",
    "this will make the problem way easier."
   ]
  },
  {
   "cell_type": "markdown",
   "metadata": {},
   "source": []
  }
 ],
 "metadata": {
  "interpreter": {
   "hash": "d28a1bb2d67e13592803079f57a2d0005ab23fdd1f87a2c5d87e364c23252892"
  },
  "kernelspec": {
   "display_name": "Python 3.9.7 64-bit",
   "language": "python",
   "name": "python3"
  },
  "language_info": {
   "codemirror_mode": {
    "name": "ipython",
    "version": 3
   },
   "file_extension": ".py",
   "mimetype": "text/x-python",
   "name": "python",
   "nbconvert_exporter": "python",
   "pygments_lexer": "ipython3",
   "version": "3.9.7"
  },
  "orig_nbformat": 4
 },
 "nbformat": 4,
 "nbformat_minor": 2
}
