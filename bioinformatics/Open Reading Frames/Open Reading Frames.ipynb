{
 "cells": [
  {
   "cell_type": "code",
   "execution_count": 3,
   "metadata": {},
   "outputs": [
    {
     "name": "stdout",
     "output_type": "stream",
     "text": [
      "AGCCATGTAGCTAACTCAGGTTACATGGGGATGACCCCGCGACTTGGATTAGAGTCTCTTTTGGAATAAGCCTGAATGATCCGAGTAGCATCTCAG\n"
     ]
    }
   ],
   "source": [
    "# reading in fasta sequence\n",
    "with open('input.txt', 'r') as raw_fasta:\n",
    "    s = raw_fasta.read().splitlines()[1]\n",
    "\n",
    "print(s)"
   ]
  },
  {
   "cell_type": "code",
   "execution_count": 4,
   "metadata": {},
   "outputs": [
    {
     "ename": "SyntaxError",
     "evalue": "invalid syntax (Temp/ipykernel_2192/1530007979.py, line 2)",
     "output_type": "error",
     "traceback": [
      "\u001b[1;36m  File \u001b[1;32m\"C:\\Users\\nate\\AppData\\Local\\Temp/ipykernel_2192/1530007979.py\"\u001b[1;36m, line \u001b[1;32m2\u001b[0m\n\u001b[1;33m    reverse_complement = s[::-1].replace('A':'T', 'T':'A', 'C':'G', 'G':'C')\u001b[0m\n\u001b[1;37m                                            ^\u001b[0m\n\u001b[1;31mSyntaxError\u001b[0m\u001b[1;31m:\u001b[0m invalid syntax\n"
     ]
    }
   ],
   "source": [
    "# get reverse complement for later\n",
    "reverse_complement = s[::-1]\n",
    "reverse_complement.replace('A':'T', 'T':'A', 'C':'G', 'G':'C')"
   ]
  }
 ],
 "metadata": {
  "interpreter": {
   "hash": "d28a1bb2d67e13592803079f57a2d0005ab23fdd1f87a2c5d87e364c23252892"
  },
  "kernelspec": {
   "display_name": "Python 3.9.7 64-bit",
   "language": "python",
   "name": "python3"
  },
  "language_info": {
   "codemirror_mode": {
    "name": "ipython",
    "version": 3
   },
   "file_extension": ".py",
   "mimetype": "text/x-python",
   "name": "python",
   "nbconvert_exporter": "python",
   "pygments_lexer": "ipython3",
   "version": "3.9.7"
  },
  "orig_nbformat": 4
 },
 "nbformat": 4,
 "nbformat_minor": 2
}
