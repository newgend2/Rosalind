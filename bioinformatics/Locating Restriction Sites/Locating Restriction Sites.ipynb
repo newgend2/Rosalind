{
 "cells": [
  {
   "cell_type": "markdown",
   "metadata": {},
   "source": [
    "## Reverse Palindromes\n",
    "Return: The position and length of every reverse palindrome in the string having length between 4 and 12. You may return these pairs in any order."
   ]
  },
  {
   "cell_type": "code",
   "execution_count": 5,
   "metadata": {},
   "outputs": [],
   "source": [
    "# import sys\n",
    "# # sys.path.remove(sys.path[1])\n",
    "# sys.path.insert(1, 'c:\\\\Users\\\\nate\\\\PycharmProjects\\\\Rosalind/')\n"
   ]
  },
  {
   "cell_type": "markdown",
   "metadata": {},
   "source": [
    "## My solution"
   ]
  },
  {
   "cell_type": "code",
   "execution_count": 48,
   "metadata": {},
   "outputs": [
    {
     "name": "stdout",
     "output_type": "stream",
     "text": [
      "5 4\n",
      "7 4\n",
      "17 4\n",
      "18 4\n",
      "21 4\n",
      "4 6\n",
      "6 6\n",
      "20 6\n",
      "19 8\n"
     ]
    }
   ],
   "source": [
    "\n",
    "from rosalind import reverse_complementDNA\n",
    "\n",
    "with open('input.txt', 'r') as f:\n",
    "    input = ''.join(f.read().splitlines()[1:])\n",
    "\n",
    "rev_pal = []\n",
    "for z in range(4, 13, 2):\n",
    "    first_strand = [input[i:i+z] for i in range(len(input) - (z-1))]\n",
    "    rev_comp = [reverse_complementDNA(seq) for seq in first_strand]\n",
    "\n",
    "    for ind, seq in enumerate(first_strand):\n",
    "        if seq == rev_comp[ind]:\n",
    "            rev_pal.append([ind + 1, z])\n",
    "\n",
    "for z in rev_pal:\n",
    "    print(' '.join(map(str, z)))\n",
    "    \n"
   ]
  }
 ],
 "metadata": {
  "interpreter": {
   "hash": "176f758ebaebe522828a01557d84b6a0c29579a4fb39ebf05ecf1d5d2056285e"
  },
  "kernelspec": {
   "display_name": "Python 3.9.7 ('base')",
   "language": "python",
   "name": "python3"
  },
  "language_info": {
   "codemirror_mode": {
    "name": "ipython",
    "version": 3
   },
   "file_extension": ".py",
   "mimetype": "text/x-python",
   "name": "python",
   "nbconvert_exporter": "python",
   "pygments_lexer": "ipython3",
   "version": "3.9.7"
  },
  "orig_nbformat": 4
 },
 "nbformat": 4,
 "nbformat_minor": 2
}
