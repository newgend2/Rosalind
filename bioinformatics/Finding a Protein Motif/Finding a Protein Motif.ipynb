{
 "cells": [
  {
   "cell_type": "code",
   "execution_count": 3,
   "metadata": {},
   "outputs": [],
   "source": [
    "import numpy as np"
   ]
  },
  {
   "cell_type": "code",
   "execution_count": 54,
   "metadata": {},
   "outputs": [
    {
     "data": {
      "text/plain": [
       "0.659713"
      ]
     },
     "execution_count": 54,
     "metadata": {},
     "output_type": "execute_result"
    }
   ],
   "source": [
    "k = 6\n",
    "N = 15\n",
    "num_trials = 2 ** k \n",
    "\n",
    "sum(np.random.binomial(num_trials,.25,1000000) >= N)/1000000"
   ]
  },
  {
   "cell_type": "markdown",
   "metadata": {},
   "source": [
    "# Finding a Protein Motif"
   ]
  },
  {
   "cell_type": "code",
   "execution_count": 50,
   "metadata": {},
   "outputs": [
    {
     "name": "stdout",
     "output_type": "stream",
     "text": [
      ">sp|B5ZC00|SYG_UREU1 Glycine--tRNA ligase OS=Ureaplasma urealyticum serovar 10 (strain ATCC 33699 / Western) OX=565575 GN=glyQS PE=3 SV=1\n",
      "MKNKFKTQEELVNHLKTVGFVFANSEIYNGLANAWDYGPLGVLLKNNLKNLWWKEFVTKQ\n",
      "KDVVGLDSAIILNPLVWKASGHLDNFSDPLIDCKNCKARYRADKLIESFDENIHIAENSS\n",
      "NEEFAKVLNDYEISCPTCKQFNWTEIRHFNLMFKTYQGVIEDAKNVVYLRPETAQGIFVN\n",
      "FKNVQRSMRLHLPFGIAQIGKSFRNEITPGNFIFRTREFEQMEIEFFLKEESAYDIFDKY\n",
      "LNQIENWLVSACGLSLNNLRKHEHPKEELSHYSKKTIDFEYNFLHGFSELYGIAYRTNYD\n",
      "LSVHMNLSKKDLTYFDEQTKEKYVPHVIEPSVGVERLLYAILTEATFIEKLENDDERILM\n",
      "DLKYDLAPYKIAVMPLVNKLKDKAEEIYGKILDLNISATFDNSGSIGKRYRRQDAIGTIY\n",
      "CLTIDFDSLDDQQDPSFTIRERNSMAQKRIKLSELPLYLNQKAHEDFQRQCQK\n",
      "\n"
     ]
    }
   ],
   "source": [
    "# getting a protein fasta sequence from uniprot database.\n",
    "from urllib.request import urlopen\n",
    "\n",
    "url = \"http://www.uniprot.org/uniprot/B5ZC00.fasta\"\n",
    "response = urlopen(url)\n",
    "fasta = response.read().decode('utf-8', 'ignore')\n",
    "\n",
    "print(fasta)"
   ]
  },
  {
   "cell_type": "code",
   "execution_count": 92,
   "metadata": {},
   "outputs": [
    {
     "data": {
      "text/plain": [
       "'MKNKFKTQEELVNHLKTVGFVFANSEIYNGLANAWDYGPLGVLLKNNLKNLWWKEFVTKQKDVVGLDSAIILNPLVWKASGHLDNFSDPLIDCKNCKARYRADKLIESFDENIHIAENSSNEEFAKVLNDYEISCPTCKQFNWTEIRHFNLMFKTYQGVIEDAKNVVYLRPETAQGIFVNFKNVQRSMRLHLPFGIAQIGKSFRNEITPGNFIFRTREFEQMEIEFFLKEESAYDIFDKYLNQIENWLVSACGLSLNNLRKHEHPKEELSHYSKKTIDFEYNFLHGFSELYGIAYRTNYDLSVHMNLSKKDLTYFDEQTKEKYVPHVIEPSVGVERLLYAILTEATFIEKLENDDERILMDLKYDLAPYKIAVMPLVNKLKDKAEEIYGKILDLNISATFDNSGSIGKRYRRQDAIGTIYCLTIDFDSLDDQQDPSFTIRERNSMAQKRIKLSELPLYLNQKAHEDFQRQCQK'"
      ]
     },
     "execution_count": 92,
     "metadata": {},
     "output_type": "execute_result"
    }
   ],
   "source": [
    "pattern = '[A-Z]{10,}'\n",
    "sequence = ''.join(re.findall(pattern, fasta.replace('\\n', '')))\n",
    "sequence\n"
   ]
  },
  {
   "cell_type": "code",
   "execution_count": 2,
   "metadata": {},
   "outputs": [
    {
     "data": {
      "text/plain": [
       "[1, 4, 7, 26]"
      ]
     },
     "execution_count": 2,
     "metadata": {},
     "output_type": "execute_result"
    }
   ],
   "source": [
    "# finding motifs in the sequence.\n",
    "# N-glycosylation motif is written as N{P}[ST]{P}.\n",
    "\n",
    "import re\n",
    "pattern_match = '(?=([N][^P][S|T][^P]))'\n",
    "matches = re.finditer(pattern_match, 'NNTNNTNNTNSKNSDCCIUUIHSDCNZTG')\n",
    "b = [match.start() + 1 for match in matches]\n",
    "b\n"
   ]
  },
  {
   "cell_type": "code",
   "execution_count": 96,
   "metadata": {},
   "outputs": [
    {
     "name": "stdout",
     "output_type": "stream",
     "text": [
      "85 118 142 306 395\n"
     ]
    }
   ],
   "source": [
    "# matching\n",
    "pattern_match = '(?=([N][^P][S|T][^P]))'\n",
    "matches = re.finditer(pattern_match, sequence)\n",
    "matches_list = [str(match.start() + 1) for match in matches]\n",
    "matches_str = ' '.join(matches_list)\n",
    "print(matches_str)"
   ]
  },
  {
   "cell_type": "code",
   "execution_count": 3,
   "metadata": {},
   "outputs": [
    {
     "name": "stdout",
     "output_type": "stream",
     "text": [
      "P02974_FMM1_NEIGO\n",
      "67 68 121\n",
      "P01880_DTC_HUMAN\n",
      "225 316 367\n",
      "Q13VE3\n",
      "95\n",
      "B3CNE0\n",
      "107\n",
      "Q32LI2\n",
      "157\n",
      "P49286\n",
      "4 130\n",
      "P00740_FA9_HUMAN\n",
      "203 213\n",
      "P07987_GUX2_TRIRE\n",
      "38 313 334\n",
      "P01045_KNH2_BOVIN\n",
      "47 87 168 169 197 204 280\n",
      "B3ET80\n",
      "6\n",
      "A9QYR8\n",
      "183 210\n",
      "P09791_PARB_TRYBB\n",
      "56\n"
     ]
    }
   ],
   "source": [
    "# Final Solution\n",
    "\n",
    "# imports\n",
    "import requests\n",
    "import re\n",
    "\n",
    "# getting urls of all proteins\n",
    "with open('input.txt', 'r') as f:\n",
    "    proteins = f.read().split()\n",
    "    # print(proteins)\n",
    "protein_fastas = []\n",
    "for z in range(len(proteins)):\n",
    "    url = 'http://www.uniprot.org/uniprot/' + proteins[z] + '.fasta'\n",
    "    r = requests.get(url)\n",
    "\n",
    "    if r.status_code == 300:\n",
    "        url = 'https://www.uniprot.org/uniprot/?query=replaces:' + proteins[z] +'&format=fasta'\n",
    "        txt = requests.get(url).text.split('>')\n",
    "        fasta = txt[1]\n",
    "        sequence = ''.join(re.findall('[A-Z]{10,}', fasta.replace('\\n', '')))\n",
    "        protein_fastas.append(sequence)\n",
    "    else:\n",
    "        fasta = r.text\n",
    "        sequence = ''.join(re.findall('[A-Z]{10,}', fasta.replace('\\n', '')))\n",
    "        protein_fastas.append(sequence)\n",
    "\n",
    "# print(protein_fastas)\n",
    "\n",
    "# matching motif for each sequence and printing indexes of matches.\n",
    "\n",
    "for idx, sequence in enumerate(protein_fastas):\n",
    "    matches = re.finditer('(?=([N][^P][S|T][^P]))', sequence)\n",
    "    matches_list = [str(match.start() + 1) for match in matches]\n",
    "    matches_str = ' '.join(matches_list)\n",
    "    if matches_str != '':\n",
    "        print(f'{proteins[idx]}\\n{matches_str}')"
   ]
  },
  {
   "cell_type": "code",
   "execution_count": 146,
   "metadata": {},
   "outputs": [
    {
     "name": "stdout",
     "output_type": "stream",
     "text": [
      "sp|P9WKH5|YIA4_MYCTU Insertion element IS6110 uncharacterized 12.0 kDa protein OS=Mycobacterium tuberculosis (strain ATCC 25618 / H37Rv) OX=83332 GN=Rv0795 PE=1 SV=1\n",
      "MSGGSSRRYPPELRERAVRMVAEIRGQHDSEWAAISEVARLLGVGCAETVRKWVRQAQVD\n",
      "AGARPGTTTEESAELKRLRRDNAELRRANAILKTASAFFAAELDRPAR\n",
      "\n"
     ]
    }
   ],
   "source": [
    "url = 'https://www.uniprot.org/uniprot/?query=replaces:P0C5G9&format=fasta'\n",
    "url2 = 'https://www.uniprot.org/uniprot/P0C5G9.fasta'\n",
    "import requests\n",
    "\n",
    "r = requests.get(url2)\n",
    "if r.status_code == 300:\n",
    "    url = 'https://www.uniprot.org/uniprot/?query=replaces:P0C5G9&format=fasta'\n",
    "\n",
    "q = requests.get(url)    \n",
    "# print(q.status_code)\n",
    "# print(q.text)\n",
    "txt = q.text\n",
    "txt2 = txt.split('>')[1]\n",
    "print(txt2)\n",
    "\n",
    "\n"
   ]
  },
  {
   "cell_type": "markdown",
   "metadata": {},
   "source": [
    "Top Rosalind Solution\n"
   ]
  },
  {
   "cell_type": "code",
   "execution_count": 4,
   "metadata": {},
   "outputs": [
    {
     "name": "stdout",
     "output_type": "stream",
     "text": [
      "P02974_FMM1_NEIGO\n",
      "67 68 121\n",
      "P01880_DTC_HUMAN\n",
      "225 316 367\n",
      "Q13VE3\n",
      "95\n",
      "B3CNE0\n",
      "107\n",
      "Q32LI2\n",
      "157\n",
      "P49286\n",
      "4 130\n",
      "P00740_FA9_HUMAN\n",
      "203 213\n",
      "P07987_GUX2_TRIRE\n",
      "38 313 334\n",
      "P01045_KNH2_BOVIN\n",
      "47 87 168 169 197 204 280\n",
      "B3ET80\n",
      "6\n",
      "A9QYR8\n",
      "183 210\n",
      "P09791_PARB_TRYBB\n",
      "56\n"
     ]
    }
   ],
   "source": [
    "from re import finditer\n",
    "# from sys import argv\n",
    "from urllib.request import urlopen\n",
    "\n",
    "uniprot = \"http://www.uniprot.org/uniprot/%s.fasta\"\n",
    "\n",
    "for protein in open('input.txt', 'r').read().strip().splitlines():\n",
    "\n",
    "    # Fetch the protein's fasta file and get rid of newlines.'\n",
    "    f = urlopen(uniprot % protein).read().decode('utf-8')\n",
    "    f = ''.join(f.splitlines()[1:])\n",
    "\n",
    "    # Find all the positions of the N-glycosylation motif.\n",
    "    locs = [g.start()+1 for g in finditer(r'(?=N[^P][ST][^P])', f)]\n",
    "\n",
    "    # Print them out, if any.\n",
    "    if locs != []:\n",
    "        print(protein)\n",
    "        print(' '.join(map(str, locs)))"
   ]
  },
  {
   "cell_type": "code",
   "execution_count": 13,
   "metadata": {},
   "outputs": [
    {
     "name": "stdout",
     "output_type": "stream",
     "text": [
      "['P02974_FMM1_NEIGO', 'P01880_DTC_HUMAN', 'Q13VE3', 'B3CNE0', 'Q32LI2', 'P49286', 'P00740_FA9_HUMAN', 'P07987_GUX2_TRIRE', 'P01045_KNH2_BOVIN', 'B3ET80', 'Q3ATP6', 'A9QYR8', 'P09791_PARB_TRYBB']\n"
     ]
    }
   ],
   "source": [
    "with open('input.txt', 'r') as f:\n",
    "    # print(f)\n",
    "    # c = f.read().split()\n",
    "    print(f.read().strip().splitlines())\n",
    "    # print(f.read().strip().splitlines())"
   ]
  },
  {
   "cell_type": "code",
   "execution_count": 18,
   "metadata": {},
   "outputs": [
    {
     "name": "stdout",
     "output_type": "stream",
     "text": [
      ">sp|P02974|FMM1_NEIGO Type IV major pilin protein PilE1 OS=Neisseria gonorrhoeae OX=485 GN=pilE1 PE=1 SV=2\n",
      "MNTLQKGFTLIELMIVIAIVGILAAVALPAYQDYTARAQVSEAILLAEGQKSAVTEYYLN\n",
      "HGKWPENNTSAGVASPPSDIKGKYVKEVEVKNGVVTATMLSSGVNNEIKGKKLSLWARRE\n",
      "NGSVKWFCGQPVTRTDDDTVADAKDGKEIDTKHLPSTCRDNFDAK\n",
      "\n",
      "\n",
      "sequence without all the dogshit\n",
      " MNTLQKGFTLIELMIVIAIVGILAAVALPAYQDYTARAQVSEAILLAEGQKSAVTEYYLNHGKWPENNTSAGVASPPSDIKGKYVKEVEVKNGVVTATMLSSGVNNEIKGKKLSLWARRENGSVKWFCGQPVTRTDDDTVADAKDGKEIDTKHLPSTCRDNFDAK\n",
      "M\n"
     ]
    }
   ],
   "source": [
    "# new opening/split method discovered\n",
    "uniprot = \"http://www.uniprot.org/uniprot/%s.fasta\"\n",
    "protein = 'P02974_FMM1_NEIGO'\n",
    "f = urlopen(uniprot % protein).read().decode('utf-8')\n",
    "print(f'{f}\\n')\n",
    "f = ''.join(f.splitlines()[1:])\n",
    "print(f'sequence without all the dogshit\\n {f}')\n",
    "print(f[0])"
   ]
  }
 ],
 "metadata": {
  "interpreter": {
   "hash": "d28a1bb2d67e13592803079f57a2d0005ab23fdd1f87a2c5d87e364c23252892"
  },
  "kernelspec": {
   "display_name": "Python 3.9.7 64-bit",
   "name": "python3"
  },
  "language_info": {
   "codemirror_mode": {
    "name": "ipython",
    "version": 3
   },
   "file_extension": ".py",
   "mimetype": "text/x-python",
   "name": "python",
   "nbconvert_exporter": "python",
   "pygments_lexer": "ipython3",
   "version": "3.9.7"
  },
  "orig_nbformat": 4
 },
 "nbformat": 4,
 "nbformat_minor": 2
}
