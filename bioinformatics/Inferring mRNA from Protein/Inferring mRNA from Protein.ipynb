{
 "cells": [
  {
   "cell_type": "markdown",
   "metadata": {},
   "source": [
    "Problem\n",
    "For positive integers a and n, a modulo n (written amodn in shorthand) is the remainder when a is divided by n. For example, 29mod11=7 because 29=11×2+7.\n",
    "\n",
    "Modular arithmetic is the study of addition, subtraction, multiplication, and division with respect to the modulo operation. We say that a and b are congruent modulo n if amodn=bmodn; in this case, we use the notation a≡bmodn.\n",
    "\n",
    "Two useful facts in modular arithmetic are that if a≡bmodn and c≡dmodn, then a+c≡b+dmodn and a×c≡b×dmodn. To check your understanding of these rules, you may wish to verify these relationships for a=29, b=73, c=10, d=32, and n=11.\n",
    "\n",
    "As you will see in this exercise, some Rosalind problems will ask for a (very large) integer solution modulo a smaller number to avoid the computational pitfalls that arise with storing such large numbers.\n",
    "\n",
    "Given: A protein string of length at most 1000 aa.\n",
    "\n",
    "Return: The total number of different RNA strings from which the protein could have been translated, modulo 1,000,000. (Don't neglect the importance of the stop codon in protein translation.)"
   ]
  },
  {
   "cell_type": "code",
   "execution_count": 17,
   "metadata": {},
   "outputs": [
    {
     "data": {
      "text/plain": [
       "True"
      ]
     },
     "execution_count": 17,
     "metadata": {},
     "output_type": "execute_result"
    }
   ],
   "source": [
    "# two congruent numbers 29≡73mod11\n",
    "29 % 11 == 73 % 11"
   ]
  },
  {
   "cell_type": "code",
   "execution_count": 19,
   "metadata": {},
   "outputs": [
    {
     "data": {
      "text/plain": [
       "7"
      ]
     },
     "execution_count": 19,
     "metadata": {},
     "output_type": "execute_result"
    }
   ],
   "source": [
    "# what is modulo?\n",
    "# a % n == a - (n * (a//n))\n",
    "29 % 11 == 7\n",
    "29 - (11 * (29//11))"
   ]
  },
  {
   "cell_type": "markdown",
   "metadata": {},
   "source": [
    "\n",
    "protein seq\n",
    "number of possible codons for each letter\n",
    "S = stop codon in this case \n",
    "\n",
    "MAS\n",
    "143* = 12\n",
    "\n",
    "\n",
    "MA\n",
    "44 = 16\n",
    "\n",
    "stop codons ae implicit in fasta sequences, ex aa seq MA is actually has stop codon after A."
   ]
  },
  {
   "cell_type": "code",
   "execution_count": 29,
   "metadata": {},
   "outputs": [
    {
     "name": "stdout",
     "output_type": "stream",
     "text": [
      "['A', 'C', 'D', 'E', 'F', 'G', 'H', 'I', 'K', 'L', 'M', 'N', 'P', 'Q', 'R', 'S', 'T', 'V', 'W', 'Y'] 20\n"
     ]
    }
   ],
   "source": [
    "\n",
    "# generator list of capital letters from alphabet less 'B', 'J', 'O', 'U', 'X', and 'Z' \n",
    "import string\n",
    "aa_list = [ltr for ltr in list(string.ascii_uppercase) if ltr not in ['B', 'J', 'O', 'U', 'X', 'Z']] \n",
    "print(aa_list)"
   ]
  },
  {
   "cell_type": "code",
   "execution_count": 32,
   "metadata": {},
   "outputs": [
    {
     "name": "stdout",
     "output_type": "stream",
     "text": [
      "{'V': 4, 'A': 4, 'D': 2, 'E': 2, 'G': 4, 'F': 2, 'L': 4, 'S': 2, 'Y': 2, 'C': 2, 'W': 1, 'P': 4, 'H': 2, 'Q': 2, 'R': 2, 'I': 3, 'M': 1, 'T': 4, 'N': 2, 'K': 2}\n"
     ]
    }
   ],
   "source": [
    "# create dictionary of amino acid letters as keys and the number of codons to generate each amino acid as values.\n",
    "aa_list = ['V','A','D','E','G','F','L','S','Y','C','W','L','P','H','Q','R','I','M','T','N','K','S','R']\n",
    "aa_combos_list = [4,4,2,2,4,2,2,4,2,2,1,4,4,2,2,4,3,1,4,2,2,2,2]\n",
    "aa_combos_list = [4,4,2,2,4,2,2,4,2,2,1,4,4,2,2,4,3,1,4,2,2,2,2]\n",
    "aa_combo_dict = dict(zip(aa_list, aa_combos_list))\n",
    "print(aa_combo_dict)"
   ]
  },
  {
   "cell_type": "code",
   "execution_count": 36,
   "metadata": {},
   "outputs": [
    {
     "name": "stdout",
     "output_type": "stream",
     "text": [
      "12\n"
     ]
    }
   ],
   "source": [
    "# calculate the number of possible RNA sequences that could produce an aa sequence. \n",
    "# don't forget that there should always be a *3 added to the end of the product because of the 3 different stop codons and only 1 possibility for each stop codon.\n",
    "test_seq = 'MA'\n",
    "\n",
    "product = 1\n",
    "for aa in test_seq:\n",
    "    product *= aa_combo_dict[aa]\n",
    "\n",
    "product *= 3\n",
    "print(product)"
   ]
  },
  {
   "cell_type": "code",
   "execution_count": 58,
   "metadata": {},
   "outputs": [
    {
     "name": "stdout",
     "output_type": "stream",
     "text": [
      "503296\n"
     ]
    }
   ],
   "source": [
    "# reading in data correctly\n",
    "# make entire sequence into one string. \n",
    "# split lines\n",
    "\n",
    "with open('input.txt', 'r') as f:\n",
    "    test_seq = ''.join(f.read().splitlines())\n",
    "    \n",
    "    product = 1\n",
    "    for aa in test_seq:\n",
    "        product = product * aa_combo_dict[aa]\n",
    "        # print(product)\n",
    "    product = (product * 3) % 1000000\n",
    "    print(product)"
   ]
  },
  {
   "cell_type": "code",
   "execution_count": 135,
   "metadata": {},
   "outputs": [
    {
     "name": "stdout",
     "output_type": "stream",
     "text": [
      "UUU F      CUU L      AUU I      GUU V\n",
      "UUC F      CUC L      AUC I      GUC V\n",
      "UUA L      CUA L      AUA I      GUA V\n",
      "UUG L      CUG L      AUG M      GUG V\n",
      "UCU S      CCU P      ACU T      GCU A\n",
      "UCC S      CCC P      ACC T      GCC A\n",
      "UCA S      CCA P      ACA T      GCA A\n",
      "UCG S      CCG P      ACG T      GCG A\n",
      "UAU Y      CAU H      AAU N      GAU D\n",
      "UAC Y      CAC H      AAC N      GAC D\n",
      "UAA Stop   CAA Q      AAA K      GAA E\n",
      "UAG Stop   CAG Q      AAG K      GAG E\n",
      "UGU C      CGU R      AGU S      GGU G\n",
      "UGC C      CGC R      AGC S      GGC G\n",
      "UGA Stop   CGA R      AGA R      GGA G\n",
      "UGG W      CGG R      AGG R      GGG G\n",
      "\n",
      "[' F ', ' L ', ' I ', ' V\\n', ' F ', ' L ', ' I ', ' V\\n', ' L ', ' L ', ' I ', ' V\\n', ' L ', ' L ', ' M ', ' V\\n', ' S ', ' P ', ' T ', ' A\\n', ' S ', ' P ', ' T ', ' A\\n', ' S ', ' P ', ' T ', ' A\\n', ' S ', ' P ', ' T ', ' A\\n', ' Y ', ' H ', ' N ', ' D\\n', ' Y ', ' H ', ' N ', ' D\\n', ' Q ', ' K ', ' E\\n', ' Q ', ' K ', ' E\\n', ' C ', ' R ', ' S ', ' G\\n', ' C ', ' R ', ' S ', ' G\\n', ' R ', ' R ', ' G\\n', ' W ', ' R ', ' R ', ' G\\n']\n"
     ]
    }
   ],
   "source": [
    "import re\n",
    "with open('codon_table.txt', 'r') as f_codon:\n",
    "    codon_table = f_codon.read()\n",
    "\n",
    "print(codon_table)\n",
    "pattern = ' [A-Z] | [A-Z]\\\\n'\n",
    "aminos_repeated = re.findall(pattern, codon_table)\n",
    "print(aminos_repeated)"
   ]
  },
  {
   "cell_type": "code",
   "execution_count": 141,
   "metadata": {},
   "outputs": [
    {
     "name": "stdout",
     "output_type": "stream",
     "text": [
      "['F', 'L', 'I', 'V', 'F', 'L', 'I', 'V', 'L', 'L', 'I', 'V', 'L', 'L', 'M', 'V', 'S', 'P', 'T', 'A', 'S', 'P', 'T', 'A', 'S', 'P', 'T', 'A', 'S', 'P', 'T', 'A', 'Y', 'H', 'N', 'D', 'Y', 'H', 'N', 'D', 'Q', 'K', 'E', 'Q', 'K', 'E', 'C', 'R', 'S', 'G', 'C', 'R', 'S', 'G', 'R', 'R', 'G', 'W', 'R', 'R', 'G']\n"
     ]
    }
   ],
   "source": [
    "# getting rid of spaces and newline characters\n",
    "aminos_repeated = ''.join(aminos_repeated).split()\n",
    "print(aminos_repeated)\n"
   ]
  },
  {
   "cell_type": "code",
   "execution_count": 148,
   "metadata": {},
   "outputs": [
    {
     "name": "stdout",
     "output_type": "stream",
     "text": [
      "dict_values([2, 6, 3, 4, 1, 6, 4, 4, 4, 2, 2, 2, 2, 2, 2, 2, 2, 6, 4, 1])\n",
      "dict_keys(['F', 'L', 'I', 'V', 'M', 'S', 'P', 'T', 'A', 'Y', 'H', 'N', 'D', 'Q', 'K', 'E', 'C', 'R', 'G', 'W'])\n"
     ]
    }
   ],
   "source": [
    "# counting the occurences of each amino acid\n",
    "from collections import Counter\n",
    "print(Counter(aminos_repeated).values())\n",
    "print(Counter(aminos_repeated).keys())\n"
   ]
  },
  {
   "cell_type": "code",
   "execution_count": 152,
   "metadata": {},
   "outputs": [
    {
     "name": "stdout",
     "output_type": "stream",
     "text": [
      "414976\n"
     ]
    }
   ],
   "source": [
    "# synthesis solution\n",
    "import re\n",
    "from collections import Counter\n",
    "\n",
    "# reading codons\n",
    "with open('codon_table.txt', 'r') as f_codon:\n",
    "    aminos_counter = Counter(''.join(re.findall(' [A-Z] | [A-Z]\\\\n', f_codon.read())).split())\n",
    "    aminos_combos_dict = dict(zip(aminos_counter.keys(), aminos_counter.values()))\n",
    "\n",
    "with open('input.txt', 'r') as f:\n",
    "    test_seq = ''.join(f.read().splitlines())\n",
    "    \n",
    "    product = 1\n",
    "    for aa in test_seq:\n",
    "        product = product * aminos_combos_dict[aa]\n",
    "        # print(product)\n",
    "    product = (product * 3) % 1000000\n",
    "    print(product)\n",
    "\n",
    "\n",
    "\n"
   ]
  }
 ],
 "metadata": {
  "interpreter": {
   "hash": "d28a1bb2d67e13592803079f57a2d0005ab23fdd1f87a2c5d87e364c23252892"
  },
  "kernelspec": {
   "display_name": "Python 3.9.7 64-bit",
   "language": "python",
   "name": "python3"
  },
  "language_info": {
   "codemirror_mode": {
    "name": "ipython",
    "version": 3
   },
   "file_extension": ".py",
   "mimetype": "text/x-python",
   "name": "python",
   "nbconvert_exporter": "python",
   "pygments_lexer": "ipython3",
   "version": "3.9.7"
  },
  "orig_nbformat": 4
 },
 "nbformat": 4,
 "nbformat_minor": 2
}
