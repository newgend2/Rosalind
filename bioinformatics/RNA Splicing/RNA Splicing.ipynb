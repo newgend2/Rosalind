{
 "cells": [
  {
   "cell_type": "markdown",
   "metadata": {},
   "source": [
    "### Reading in FASTA file"
   ]
  },
  {
   "cell_type": "code",
   "execution_count": 96,
   "metadata": {},
   "outputs": [
    {
     "name": "stdout",
     "output_type": "stream",
     "text": [
      "['ATGCTTGGGCCAGTGCCTTCTGCTTCCGTAGACTATTCGTCATCTCTGACTCGGCCCGGATATACTGTCTTTTATTCGCACTAATCTTGGATCTAGAGGCGATAGCGCGCATATTTCAGGCAATCTATTTCTGTCTCAGCGTGATCACGCGGTCGCCCTGTACTTGGCATCCTCTGAGTAATGACTCGTCGAGAAAATGCTCGGATGCGACGAGGACGGGCACAGCTTTTGTCGTTCCCGACCTAGAATGGGTCTCGCTGAAGAAGTAAGCGATACACGTACCCATATAAATTGTCCAAATTCACCGTGTTCAGTCGTCCCAACATACATAACGGGCTCGGCCAGTTCGTCCAGGATGATCATATAAATACGGAAAATGAGTTAGCGGGCTGAACGAAACAGTGGGGTCCGCCAGCACTCTCCTGCGCTGACCAGCACCTCAACAGCTCCCGATGTCATGCCTCTCGTAACATTTTTACAATCGTAAGTAGTTTCAGTTATGAGCATCTCCGATTTGTCTATTTTTTACCAACATCTATCACGTCACTGTGTAGCGACTTGTGTTCTCATCGCGTCCCTCTTTAGGGACGTCCAGATGTAAGTTACGAGACCGCATATGCCGATCATGTACCGTTCGCTTAGTCTACAAATCCTGCCACAAACAGTCGTGGTCCGGGCCGCCGCCGTGTCAGACAGCATTTGGCGCCTTCTGATAGGGGTTCCACTAAGGGTCTTACGGCCAACCATAACGCGAGGCACCGACACAGCAAGCCGGATAGCGTAACACCTCGTTTTTCCGCAACGGTATCATCAGGCCGGAATCTTGGCGACGACCTATATGCAATGCCATTCCGTAATATTAATCTAGCTGGGCGGGGCCGGCTGGAACTCAACCGGCCTCTGGCCTAAGTCCCGATCTAGGCATCTCATTCTCGTTTGAATGTTTCAAGCCATTTCAATTGGCGCGCTGTTTATAA', 'CCGTAATATTAATCTA', 'TAGGGACGTCCAGATGTAAGTTACGAGACCGCATATGCCGATC', 'GAGTTAGCGGGCTGAACGAA', 'CGGTCGCCCTGTACTTGGCATCCTCTGAGTAATGACTC', 'TGACCAGCAC', 'CGTACCCATATAAATT', 'AGAATGGGTCTCGCTGAA', 'CTGACTCGGCCCGGATATACTGTCTTTTATTCGCACTAATCTTGGATCTA', 'GAACTCAACCGGCCTCTGGCCTAAGTCCCGATCTAGGCATCTCA', 'TATGAGCATCTCCGATTTGT', 'ATCTATCACG', 'GCAACGGTATCATCAGGCCG', 'GGTCTTACGGCCAACCATAACGCGAGGCACCGACACAGCAAG', 'ATCCTGCCACAAACAGTCGT', 'GTTCAGTCGTCCCAACATA']\n"
     ]
    }
   ],
   "source": [
    "import re\n",
    "with open('./input.txt') as f:\n",
    "    file_proc = [seq.replace('\\n', '') for seq in f.read().split('>Rosalind_')[1:]] # getting distinction between rosalinds and sequences.\n",
    "    file_proc = [re.sub('[0-9]+', '', seq) for seq in file_proc] # getting rid of leftover integers in sequence string\n",
    "print(file_proc)\n"
   ]
  },
  {
   "cell_type": "code",
   "execution_count": 97,
   "metadata": {},
   "outputs": [
    {
     "name": "stdout",
     "output_type": "stream",
     "text": [
      "ATGCTTGGGCCAGTGCCTTCTGCTTCCGTAGACTATTCGTCATCTGAGGCGATAGCGCGCATATTTCAGGCAATCTATTTCTGTCTCAGCGTGATCACGGTCGAGAAAATGCTCGGATGCGACGAGGACGGGCACAGCTTTTGTCGTTCCCGACCTGAAGTAAGCGATACAGTCCAAATTCACCGTCATAACGGGCTCGGCCAGTTCGTCCAGGATGATCATATAAATACGGAAAATACAGTGGGGTCCGCCAGCACTCTCCTGCGCCTCAACAGCTCCCGATGTCATGCCTCTCGTAACATTTTTACAATCGTAAGTAGTTTCAGTCTATTTTTTACCAACTCACTGTGTAGCGACTTGTGTTCTCATCGCGTCCCTCTTATGTACCGTTCGCTTAGTCTACAAGGTCCGGGCCGCCGCCGTGTCAGACAGCATTTGGCGCCTTCTGATAGGGGTTCCACTAAGCCGGATAGCGTAACACCTCGTTTTTCCGAATCTTGGCGACGACCTATATGCAATGCCATTGCTGGGCGGGGCCGGCTGTTCTCGTTTGAATGTTTCAAGCCATTTCAATTGGCGCGCTGTTTATAA\n",
      "['ATG', 'CTT', 'GGG', 'CCA', 'GTG', 'CCT', 'TCT', 'GCT', 'TCC', 'GTA', 'GAC', 'TAT', 'TCG', 'TCA', 'TCT', 'GAG', 'GCG', 'ATA', 'GCG', 'CGC', 'ATA', 'TTT', 'CAG', 'GCA', 'ATC', 'TAT', 'TTC', 'TGT', 'CTC', 'AGC', 'GTG', 'ATC', 'ACG', 'GTC', 'GAG', 'AAA', 'ATG', 'CTC', 'GGA', 'TGC', 'GAC', 'GAG', 'GAC', 'GGG', 'CAC', 'AGC', 'TTT', 'TGT', 'CGT', 'TCC', 'CGA', 'CCT', 'GAA', 'GTA', 'AGC', 'GAT', 'ACA', 'GTC', 'CAA', 'ATT', 'CAC', 'CGT', 'CAT', 'AAC', 'GGG', 'CTC', 'GGC', 'CAG', 'TTC', 'GTC', 'CAG', 'GAT', 'GAT', 'CAT', 'ATA', 'AAT', 'ACG', 'GAA', 'AAT', 'ACA', 'GTG', 'GGG', 'TCC', 'GCC', 'AGC', 'ACT', 'CTC', 'CTG', 'CGC', 'CTC', 'AAC', 'AGC', 'TCC', 'CGA', 'TGT', 'CAT', 'GCC', 'TCT', 'CGT', 'AAC', 'ATT', 'TTT', 'ACA', 'ATC', 'GTA', 'AGT', 'AGT', 'TTC', 'AGT', 'CTA', 'TTT', 'TTT', 'ACC', 'AAC', 'TCA', 'CTG', 'TGT', 'AGC', 'GAC', 'TTG', 'TGT', 'TCT', 'CAT', 'CGC', 'GTC', 'CCT', 'CTT', 'ATG', 'TAC', 'CGT', 'TCG', 'CTT', 'AGT', 'CTA', 'CAA', 'GGT', 'CCG', 'GGC', 'CGC', 'CGC', 'CGT', 'GTC', 'AGA', 'CAG', 'CAT', 'TTG', 'GCG', 'CCT', 'TCT', 'GAT', 'AGG', 'GGT', 'TCC', 'ACT', 'AAG', 'CCG', 'GAT', 'AGC', 'GTA', 'ACA', 'CCT', 'CGT', 'TTT', 'TCC', 'GAA', 'TCT', 'TGG', 'CGA', 'CGA', 'CCT', 'ATA', 'TGC', 'AAT', 'GCC', 'ATT', 'GCT', 'GGG', 'CGG', 'GGC', 'CGG', 'CTG', 'TTC', 'TCG', 'TTT', 'GAA', 'TGT', 'TTC', 'AAG', 'CCA', 'TTT', 'CAA', 'TTG', 'GCG', 'CGC', 'TGT', 'TTA', 'TAA']\n"
     ]
    }
   ],
   "source": [
    "# getting introns\n",
    "seq = file_proc[0]\n",
    "introns = file_proc[1:]\n",
    "\n",
    "for intron in introns:\n",
    "    seq = re.sub(intron,'', seq)\n",
    "\n",
    "print(seq)\n",
    "codons = [seq[i:i+3] for i in range(0,(len(seq) // 3) * 3,3)]\n",
    "print(codons)"
   ]
  },
  {
   "cell_type": "markdown",
   "metadata": {},
   "source": [
    "### Translate DNA to RNA"
   ]
  },
  {
   "cell_type": "code",
   "execution_count": 84,
   "metadata": {},
   "outputs": [
    {
     "name": "stdout",
     "output_type": "stream",
     "text": [
      "{'TTT': 'F', 'CTT': 'L', 'ATT': 'I', 'GTT': 'V', 'TTC': 'F', 'CTC': 'L', 'ATC': 'I', 'GTC': 'V', 'TTA': 'L', 'CTA': 'L', 'ATA': 'I', 'GTA': 'V', 'TTG': 'L', 'CTG': 'L', 'ATG': 'M', 'GTG': 'V', 'TCT': 'S', 'CCT': 'P', 'ACT': 'T', 'GCT': 'A', 'TCC': 'S', 'CCC': 'P', 'ACC': 'T', 'GCC': 'A', 'TCA': 'S', 'CCA': 'P', 'ACA': 'T', 'GCA': 'A', 'TCG': 'S', 'CCG': 'P', 'ACG': 'T', 'GCG': 'A', 'TAT': 'Y', 'CAT': 'H', 'AAT': 'N', 'GAT': 'D', 'TAC': 'Y', 'CAC': 'H', 'AAC': 'N', 'GAC': 'D', 'TAA': 'Stop', 'CAA': 'Q', 'AAA': 'K', 'GAA': 'E', 'TAG': 'Stop', 'CAG': 'Q', 'AAG': 'K', 'GAG': 'E', 'TGT': 'C', 'CGT': 'R', 'AGT': 'S', 'GGT': 'G', 'TGC': 'C', 'CGC': 'R', 'AGC': 'S', 'GGC': 'G', 'TGA': 'Stop', 'CGA': 'R', 'AGA': 'R', 'GGA': 'G', 'TGG': 'W', 'CGG': 'R', 'AGG': 'R', 'GGG': 'G'}\n"
     ]
    }
   ],
   "source": [
    "dna_rna_table = '''TTT F      CTT L      ATT I      GTT V\n",
    "TTC F      CTC L      ATC I      GTC V\n",
    "TTA L      CTA L      ATA I      GTA V\n",
    "TTG L      CTG L      ATG M      GTG V\n",
    "TCT S      CCT P      ACT T      GCT A\n",
    "TCC S      CCC P      ACC T      GCC A\n",
    "TCA S      CCA P      ACA T      GCA A\n",
    "TCG S      CCG P      ACG T      GCG A\n",
    "TAT Y      CAT H      AAT N      GAT D\n",
    "TAC Y      CAC H      AAC N      GAC D\n",
    "TAA Stop   CAA Q      AAA K      GAA E\n",
    "TAG Stop   CAG Q      AAG K      GAG E\n",
    "TGT C      CGT R      AGT S      GGT G\n",
    "TGC C      CGC R      AGC S      GGC G\n",
    "TGA Stop   CGA R      AGA R      GGA G\n",
    "TGG W      CGG R      AGG R      GGG G\n",
    "'''\n",
    "table_list = dna_rna_table.split()\n",
    "table_dict = dict(zip(table_list[0::2], table_list[1::2]))\n",
    "print(table_dict)\n"
   ]
  },
  {
   "cell_type": "code",
   "execution_count": 101,
   "metadata": {},
   "outputs": [
    {
     "name": "stdout",
     "output_type": "stream",
     "text": [
      "MLGPVPSASVDYSSSEAIARIFQAIYFCLSVITVEKMLGCDEDGHSFCRSRPEVSDTVQIHRHNGLGQFVQDDHINTENTVGSASTLLRLNSSRCHASRNIFTIVSSFSLFFTNSLCSDLCSHRVPLMYRSLSLQGPGRRRVRQHLAPSDRGSTKPDSVTPRFSESWRRPICNAIAGRGRLFSFECFKPFQLARCL\n"
     ]
    }
   ],
   "source": [
    "protein = ''.join([table_dict[codon] for codon in codons[:-1]])\n",
    "print(protein)"
   ]
  },
  {
   "cell_type": "markdown",
   "metadata": {},
   "source": [
    "### My solution"
   ]
  },
  {
   "cell_type": "code",
   "execution_count": 102,
   "metadata": {},
   "outputs": [
    {
     "name": "stdout",
     "output_type": "stream",
     "text": [
      "MLGPVPSASVDYSSSEAIARIFQAIYFCLSVITVEKMLGCDEDGHSFCRSRPEVSDTVQIHRHNGLGQFVQDDHINTENTVGSASTLLRLNSSRCHASRNIFTIVSSFSLFFTNSLCSDLCSHRVPLMYRSLSLQGPGRRRVRQHLAPSDRGSTKPDSVTPRFSESWRRPICNAIAGRGRLFSFECFKPFQLARCL\n"
     ]
    }
   ],
   "source": [
    "import re\n",
    "with open('./input.txt') as f:\n",
    "    # getting distinction between rosalinds and sequences.\n",
    "    file_proc = [seq.replace('\\n', '')\n",
    "                 for seq in f.read().split('>Rosalind_')[1:]]\n",
    "    # getting rid of leftover integers in sequence string\n",
    "    file_proc = [re.sub('[0-9]+', '', seq) for seq in file_proc]\n",
    "\n",
    "seq = file_proc[0]\n",
    "introns = file_proc[1:]\n",
    "\n",
    "for intron in introns:\n",
    "    seq = re.sub(intron, '', seq)\n",
    "\n",
    "codons = [seq[i:i+3] for i in range(0, (len(seq) // 3) * 3, 3)]\n",
    "\n",
    "dna_rna_table = '''TTT F      CTT L      ATT I      GTT V\n",
    "TTC F      CTC L      ATC I      GTC V\n",
    "TTA L      CTA L      ATA I      GTA V\n",
    "TTG L      CTG L      ATG M      GTG V\n",
    "TCT S      CCT P      ACT T      GCT A\n",
    "TCC S      CCC P      ACC T      GCC A\n",
    "TCA S      CCA P      ACA T      GCA A\n",
    "TCG S      CCG P      ACG T      GCG A\n",
    "TAT Y      CAT H      AAT N      GAT D\n",
    "TAC Y      CAC H      AAC N      GAC D\n",
    "TAA Stop   CAA Q      AAA K      GAA E\n",
    "TAG Stop   CAG Q      AAG K      GAG E\n",
    "TGT C      CGT R      AGT S      GGT G\n",
    "TGC C      CGC R      AGC S      GGC G\n",
    "TGA Stop   CGA R      AGA R      GGA G\n",
    "TGG W      CGG R      AGG R      GGG G\n",
    "'''\n",
    "table_list = dna_rna_table.split()\n",
    "table_dict = dict(zip(table_list[0::2], table_list[1::2]))\n",
    "\n",
    "protein = ''.join([table_dict[codon] for codon in codons[:-1]])\n",
    "print(protein)\n"
   ]
  },
  {
   "cell_type": "markdown",
   "metadata": {},
   "source": [
    "## Exploring Other Solutions"
   ]
  },
  {
   "cell_type": "code",
   "execution_count": 161,
   "metadata": {},
   "outputs": [
    {
     "name": "stdout",
     "output_type": "stream",
     "text": [
      "MLGPVPSASVDYSSSEAIARIFQAIYFCLSVITVEKMLGCDEDGHSFCRSRPEVSDTVQIHRHNGLGQFVQDDHINTENTVGSASTLLRLNSSRCHASRNIFTIVSSFSLFFTNSLCSDLCSHRVPLMYRSLSLQGPGRRRVRQHLAPSDRGSTKPDSVTPRFSESWRRPICNAIAGRGRLFSFECFKPFQLARCL\n"
     ]
    }
   ],
   "source": [
    "# using bio python\n",
    "from Bio import Seq\n",
    "from Bio import SeqIO\n",
    "\n",
    "instream = SeqIO.parse(\"./input.txt\", \"fasta\")\n",
    "# [nuc for nuc in instream]\n",
    "target = str(next(instream).seq)\n",
    "# print(target)\n",
    "\n",
    "for intron in instream:\n",
    "    target = target.replace(str(intron.seq), \"\")\n",
    "\n",
    "# print(target)\n",
    "print(str(Seq.Seq(target).translate(to_stop=True)))\n",
    "# Seq(target).translate(to_stop=True)\n"
   ]
  },
  {
   "cell_type": "code",
   "execution_count": 104,
   "metadata": {},
   "outputs": [],
   "source": []
  }
 ],
 "metadata": {
  "interpreter": {
   "hash": "176f758ebaebe522828a01557d84b6a0c29579a4fb39ebf05ecf1d5d2056285e"
  },
  "kernelspec": {
   "display_name": "Python 3.9.7 ('base')",
   "language": "python",
   "name": "python3"
  },
  "language_info": {
   "codemirror_mode": {
    "name": "ipython",
    "version": 3
   },
   "file_extension": ".py",
   "mimetype": "text/x-python",
   "name": "python",
   "nbconvert_exporter": "python",
   "pygments_lexer": "ipython3",
   "version": "3.9.7"
  },
  "orig_nbformat": 4
 },
 "nbformat": 4,
 "nbformat_minor": 2
}
