{
 "cells": [
  {
   "cell_type": "markdown",
   "metadata": {},
   "source": [
    "\n",
    "# This is $\\beta$\n",
    "# <font color='cyan'>\n",
    "# This is Problem Statement $\\beta$"
   ]
  },
  {
   "cell_type": "markdown",
   "metadata": {},
   "source": [
    "<font color='orange'>\n",
    "\n",
    "Assume that an alphabet A has a predetermined order; that is, we write the alphabet as a permutation A=(a1,a2,…,ak), where a1<a2<⋯<ak. For instance, the English alphabet is organized as (A,B,…,Z)\n",
    "\n",
    "Given two strings s\n",
    "and t having the same length n, we say that s precedes t in the lexicographic order (and write s<Lext) if the first symbol s[j] that doesn't match t[j] satisfies sj<tj in A\n",
    "\n",
    "Given: A collection of at most 10 symbols defining an ordered alphabet, and a positive integer n\n",
    "(n≤10).\n",
    "\n",
    "Return: All strings of length n\n",
    "that can be formed from the alphabet, ordered lexicographically (use the standard order of symbols in the English alphabet)."
   ]
  },
  {
   "cell_type": "markdown",
   "metadata": {},
   "source": [
    "E=MC<sup>2</sup>"
   ]
  },
  {
   "cell_type": "markdown",
   "metadata": {},
   "source": [
    "<font color='red'>\n",
    "\n",
    "> Email-style angle brackets are used for blockquotes.  \n",
    ">> You can also nest them.  \n",
    "    testing\n",
    ">>\n",
    "> * You can quote a list.\n",
    "> * Etc.  \n",
    "\n",
    "> To break the nested blockquote, add a space between lines.\n",
    "\n",
    "Add another line to resume regular paragraph text."
   ]
  },
  {
   "cell_type": "markdown",
   "metadata": {},
   "source": [
    "<font color='cyan'>\n",
    "\n",
    "### Reading in file"
   ]
  },
  {
   "cell_type": "code",
   "execution_count": 46,
   "metadata": {},
   "outputs": [],
   "source": [
    "with open('./input.txt', 'r') as f:\n",
    "    f_split = f.read().splitlines()\n",
    "    alphabet = list(f_split[0].replace(' ',''))\n",
    "    n = int(f_split[1])"
   ]
  },
  {
   "cell_type": "markdown",
   "metadata": {},
   "source": [
    "<font color='cyan'>\n",
    "\n",
    "### Generating all possible strings of length n"
   ]
  },
  {
   "cell_type": "code",
   "execution_count": 110,
   "metadata": {},
   "outputs": [
    {
     "name": "stdout",
     "output_type": "stream",
     "text": [
      "[('A', [('A', 'A'), ('A', 'C'), ('A', 'G'), ('A', 'T')]), ('A', [('C', 'A'), ('C', 'C'), ('C', 'G'), ('C', 'T')]), ('A', [('G', 'A'), ('G', 'C'), ('G', 'G'), ('G', 'T')]), ('A', [('T', 'A'), ('T', 'C'), ('T', 'G'), ('T', 'T')])]\n"
     ]
    }
   ],
   "source": [
    "combos = []\n",
    "def combinate(n, alphabet):\n",
    "    if n == 1:\n",
    "        return alphabet\n",
    "        \n",
    "    else:\n",
    "        return list(map(list,[zip([ltr] * (len(alphabet) ** (n-1)) , combinate(n-1, alphabet)) for ltr in alphabet]))\n",
    "            \n",
    "\n",
    "\n",
    "# print(list(map(list, combinate(2,alphabet))))\n",
    "test = combinate(3,alphabet)\n",
    "print(test[0])"
   ]
  },
  {
   "cell_type": "code",
   "execution_count": 77,
   "metadata": {},
   "outputs": [
    {
     "data": {
      "text/plain": [
       "[[('A', 'A'), ('A', 'C'), ('A', 'G'), ('A', 'T')],\n",
       " [('C', 'A'), ('C', 'C'), ('C', 'G'), ('C', 'T')],\n",
       " [('G', 'A'), ('G', 'C'), ('G', 'G'), ('G', 'T')],\n",
       " [('T', 'A'), ('T', 'C'), ('T', 'G'), ('T', 'T')]]"
      ]
     },
     "execution_count": 77,
     "metadata": {},
     "output_type": "execute_result"
    }
   ],
   "source": [
    "list(map(list, [zip([ltr] * len(alphabet), alphabet) for ltr in alphabet]))"
   ]
  },
  {
   "cell_type": "code",
   "execution_count": null,
   "metadata": {},
   "outputs": [],
   "source": [
    "for z in range(1,n+1):\n",
    "    for ltr in alphabet:\n",
    "        "
   ]
  },
  {
   "cell_type": "code",
   "execution_count": 64,
   "metadata": {},
   "outputs": [
    {
     "data": {
      "text/plain": [
       "[['A', 'A'], ['A', 'C'], ['A', 'G']]"
      ]
     },
     "execution_count": 64,
     "metadata": {},
     "output_type": "execute_result"
    }
   ],
   "source": [
    "list(map(list, zip(['A','A','A'], ['A','C','G'])))"
   ]
  },
  {
   "cell_type": "code",
   "execution_count": 105,
   "metadata": {},
   "outputs": [
    {
     "name": "stdout",
     "output_type": "stream",
     "text": [
      "[[[('A', 'A'), ('A', 'B'), ('A', 'C')], [(1, 1), (1, 2), (1, 3)]], [[('B', 'A'), ('B', 'B'), ('B', 'C')], [(2, 1), (2, 2), (2, 3)]]]\n"
     ]
    }
   ],
   "source": [
    "alphabet1 = ['A','B','C']\n",
    "alphabet2 = [1,2,3]\n",
    "\n",
    "z1 = list(map(list, [zip([ltr] * len(alphabet1), alphabet1) for ltr in alphabet1]))\n",
    "z2 = list(map(list, [zip([ltr] * len(alphabet2), alphabet2) for ltr in alphabet2]))\n",
    "\n",
    "\n",
    "final = list(map(list, zip(z1, z2)))\n",
    "print(final[0:2])\n"
   ]
  },
  {
   "cell_type": "code",
   "execution_count": 111,
   "metadata": {},
   "outputs": [],
   "source": [
    "class Car:\n",
    "    def __init__(self, color, make, model, fuel):\n",
    "        self._color = color\n",
    "        self._make = make\n",
    "        self._model = model\n",
    "        self._fuel = fuel"
   ]
  },
  {
   "cell_type": "code",
   "execution_count": null,
   "metadata": {},
   "outputs": [],
   "source": [
    "class CarSeller:\n",
    "    def __init__(self, name, location, cars_owned = None):\n",
    "        self._name = name\n",
    "        self._location = location\n",
    "        if cars_owned == None:\n",
    "            self._cars_owned = []\n",
    "        else:\n",
    "            self._cars_owned = cars_owned\n",
    "\n"
   ]
  }
 ],
 "metadata": {
  "interpreter": {
   "hash": "176f758ebaebe522828a01557d84b6a0c29579a4fb39ebf05ecf1d5d2056285e"
  },
  "kernelspec": {
   "display_name": "Python 3.9.7 ('base')",
   "language": "python",
   "name": "python3"
  },
  "language_info": {
   "codemirror_mode": {
    "name": "ipython",
    "version": 3
   },
   "file_extension": ".py",
   "mimetype": "text/x-python",
   "name": "python",
   "nbconvert_exporter": "python",
   "pygments_lexer": "ipython3",
   "version": "3.9.7"
  },
  "orig_nbformat": 4
 },
 "nbformat": 4,
 "nbformat_minor": 2
}
